{
 "cells": [
  {
   "cell_type": "code",
   "execution_count": 1,
   "id": "ad0eabf1",
   "metadata": {},
   "outputs": [
    {
     "name": "stdout",
     "output_type": "stream",
     "text": [
      "<__main__.Employee object at 0x7f1bb2f2ae90>\n",
      "<__main__.Employee object at 0x7f1bb2f2b070>\n"
     ]
    }
   ],
   "source": [
    "class Employee:\n",
    "    pass\n",
    "\n",
    "emp_1 = Employee()\n",
    "emp_2 = Employee()\n",
    "\n",
    "print(emp_1)\n",
    "print(emp_2)"
   ]
  },
  {
   "cell_type": "code",
   "execution_count": 2,
   "id": "2fecc40e",
   "metadata": {},
   "outputs": [
    {
     "name": "stdout",
     "output_type": "stream",
     "text": [
      "corey.schafer@company.com\n",
      "test.user@company.com\n"
     ]
    }
   ],
   "source": [
    "## instance variables\n",
    "\n",
    "emp_1.first = 'corey'\n",
    "emp_1.last = 'schafer'\n",
    "emp_1.email = 'corey.schafer@company.com'\n",
    "emp_1.pay = 50000\n",
    "\n",
    "emp_2.first = 'test'\n",
    "emp_2.last = 'user'\n",
    "emp_2.email = 'test.user@company.com'\n",
    "emp_2.pay = 60000\n",
    "\n",
    "print(emp_1.email)\n",
    "print(emp_2.email)"
   ]
  },
  {
   "cell_type": "code",
   "execution_count": 4,
   "id": "4b1894a3",
   "metadata": {},
   "outputs": [
    {
     "name": "stdout",
     "output_type": "stream",
     "text": [
      "Corey.Schafer@comapny.com\n",
      "test.user@comapny.com\n"
     ]
    }
   ],
   "source": [
    "## without creating manually as the previous cell instead ..(using init method)\n",
    "\n",
    "class Employee:\n",
    "    \n",
    "    def __init__(self, first, last, pay): #self is the instance that is passed as the first argument to any method of the class\n",
    "        self.first = first\n",
    "        self.last = last\n",
    "        self.pay = pay\n",
    "        self.email = first + '.' + last + '@comapny.com'\n",
    "        \n",
    "        \n",
    "emp_1 = Employee('Corey', 'Schafer', 50000)\n",
    "emp_2 = Employee('test', 'user', 60000)\n",
    "\n",
    "print(emp_1.email)\n",
    "print(emp_2.email)"
   ]
  },
  {
   "cell_type": "code",
   "execution_count": 5,
   "id": "e7d18a9b",
   "metadata": {},
   "outputs": [
    {
     "name": "stdout",
     "output_type": "stream",
     "text": [
      "Corey.Schafer@comapny.com\n",
      "test.user@comapny.com\n",
      "Corey Schafer\n"
     ]
    }
   ],
   "source": [
    "## adding methods to the above class\n",
    "\n",
    "\n",
    "class Employee:\n",
    "    \n",
    "    def __init__(self, first, last, pay): #self is the instance that is passed as the first argument to any method of the class\n",
    "        self.first = first\n",
    "        self.last = last\n",
    "        self.pay = pay\n",
    "        self.email = first + '.' + last + '@comapny.com'\n",
    "        \n",
    "    def fullname(self): #self is important as it is the instance which is getting passed in back\n",
    "        return '{} {}'.format(self.first, self.last)\n",
    "    \n",
    "    \n",
    "emp_1 = Employee('Corey', 'Schafer', 50000)\n",
    "emp_2 = Employee('test', 'user', 60000)\n",
    "\n",
    "print(emp_1.email)\n",
    "print(emp_2.email)\n",
    "print(emp_1.fullname())"
   ]
  },
  {
   "cell_type": "code",
   "execution_count": 8,
   "id": "84577109",
   "metadata": {},
   "outputs": [
    {
     "name": "stdout",
     "output_type": "stream",
     "text": [
      "50000\n",
      "52000\n"
     ]
    }
   ],
   "source": [
    "#### Class Variables--------------shared among all variables in the class\n",
    "\n",
    "class Employee:\n",
    "    \n",
    "    raise_amount = 1.04\n",
    "    \n",
    "    def __init__(self, first, last, pay): #self is the instance that is passed as the first argument to any method of the class\n",
    "        self.first = first\n",
    "        self.last = last\n",
    "        self.pay = pay\n",
    "        self.email = first + '.' + last + '@comapny.com'\n",
    "        \n",
    "    def fullname(self): #self is important as it is the instance which is getting passed in back\n",
    "        return '{} {}'.format(self.first, self.last)\n",
    "    \n",
    "    def apply_raise(self):\n",
    "        self.pay = int(self.pay * self.raise_amount)\n",
    "        \n",
    "    \n",
    "    \n",
    "emp_1 = Employee('Corey', 'Schafer', 50000)\n",
    "emp_2 = Employee('test', 'user', 60000)\n",
    "\n",
    "print(emp_1.pay)\n",
    "emp_1.apply_raise()\n",
    "print(emp_1.pay)"
   ]
  },
  {
   "cell_type": "code",
   "execution_count": 4,
   "id": "79df4536",
   "metadata": {},
   "outputs": [
    {
     "name": "stdout",
     "output_type": "stream",
     "text": [
      "False\n"
     ]
    }
   ],
   "source": [
    "## classmethods and static methods\n",
    "## classmethods are alternative constructors\n",
    "class Employee:\n",
    "    \n",
    "    num_of_emps = 0\n",
    "    raise_amt = 1.04\n",
    "    \n",
    "    def __init__(self,first, last, pay):\n",
    "        self.first = first\n",
    "        self.last = last\n",
    "        self.email = first +'.'+last+'@comapny.com'\n",
    "        self.pay = pay\n",
    "        \n",
    "        Employee.num_of_emps += 1\n",
    "        \n",
    "    def fullname(self): \n",
    "        return '{} {}'.format(self.first, self.last)\n",
    "    \n",
    "    def apply_raise(self):\n",
    "        self.pay = int(self.pay * self.raise_amount)\n",
    "        \n",
    "    @classmethod\n",
    "    def set_raise_amt(cls, amount):\n",
    "        cls.raise_amt = amount\n",
    "        \n",
    "    @classmethod\n",
    "    def from_string(cls, emp_str):\n",
    "        first, last, pay = emp_str.split('-')\n",
    "        return cls(first, last, pay)\n",
    "    \n",
    "    @staticmethod\n",
    "    def is_workday(day):\n",
    "        if day.weekday() == 5 or day.weekday() == 6:\n",
    "            return False\n",
    "        return True\n",
    "        \n",
    "emp_1 = Employee('Corey','Schafer', 50000)\n",
    "emp_2 = Employee('Test', 'Employee', 60000)\n",
    "\n",
    "Employee.set_raise_amt(1.05)\n",
    "'''\n",
    "print(Employee.raise_amt)\n",
    "print(emp_1.raise_amt)\n",
    "print(emp_2.raise_amt)\n",
    "'''\n",
    "\n",
    "import datetime\n",
    "my_date = datetime.date(2016, 7, 10)\n",
    "\n",
    "print(Employee.is_workday(my_date))\n"
   ]
  },
  {
   "cell_type": "code",
   "execution_count": 6,
   "id": "43e8cc2e",
   "metadata": {},
   "outputs": [
    {
     "name": "stdout",
     "output_type": "stream",
     "text": [
      "Corey.Schafer@comapny.com\n",
      "Test.user@comapny.com\n"
     ]
    }
   ],
   "source": [
    "### Inhertitance----------\n",
    "\n",
    "class Employee:\n",
    "    \n",
    "    raise_amount = 1.04\n",
    "    \n",
    "    def __init__(self, first, last, pay): \n",
    "        self.first = first\n",
    "        self.last = last\n",
    "        self.pay = pay\n",
    "        self.email = first + '.' + last + '@comapny.com'\n",
    "        \n",
    "    def fullname(self): \n",
    "        return '{} {}'.format(self.first, self.last)\n",
    "    \n",
    "    def apply_raise(self):\n",
    "        self.pay = int(self.pay * self.raise_amount)\n",
    "        \n",
    "        \n",
    "class Developer(Employee):\n",
    "    pass\n",
    "        \n",
    "dev_1 = Developer('Corey', 'Schafer', 50000)\n",
    "dev_2 = Developer('Test', 'user', 60000)\n",
    "\n",
    "print(dev_1.email)\n",
    "print(dev_2.email)"
   ]
  },
  {
   "cell_type": "code",
   "execution_count": null,
   "id": "ba8ccd70",
   "metadata": {},
   "outputs": [],
   "source": []
  }
 ],
 "metadata": {
  "kernelspec": {
   "display_name": "Python 3 (ipykernel)",
   "language": "python",
   "name": "python3"
  },
  "language_info": {
   "codemirror_mode": {
    "name": "ipython",
    "version": 3
   },
   "file_extension": ".py",
   "mimetype": "text/x-python",
   "name": "python",
   "nbconvert_exporter": "python",
   "pygments_lexer": "ipython3",
   "version": "3.10.6"
  }
 },
 "nbformat": 4,
 "nbformat_minor": 5
}
